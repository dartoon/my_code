{
 "cells": [
  {
   "cell_type": "markdown",
   "metadata": {},
   "source": [
    "# Model the drizzled JWST image.\n",
    "\n",
    "Perform this notebook requires standard astroconda libraries and the publicly available packages on github.\n",
    "\n",
    "- lenstronomy (https://github.com/sibirrer/lenstronomy) (pip install lenstronomy)\n",
    "- fastell4py (only when using the SPEMD model) (https://github.com/sibirrer/fastell4py), based on the original fastell fortran code (by Barkana)\n",
    "\n",
    "This notebook has been tested with on Python 3.6.10, lenstronomy 1.3.0.\n",
    "\n",
    "### Note that this notebook models the drizzled simulated image.\n"
   ]
  },
  {
   "cell_type": "code",
   "execution_count": 1,
   "metadata": {},
   "outputs": [],
   "source": [
    "# import the necessary python modules\n",
    "\n",
    "import numpy as np\n",
    "import astropy.io.fits as pyfits\n",
    "import matplotlib.pyplot as plt\n",
    "import glob\n",
    "#from gen_fit_id import gen_fit_id\n",
    "from photutils import make_source_mask\n",
    "import os\n",
    "import re\n",
    "\n",
    "import sys\n",
    "sys.path.insert(0,'../share_tools/')\n",
    "from fit_qso import fit_qso\n",
    "from transfer_to_result import transfer_to_result\n",
    "from mask_objects import detect_obj\n",
    "from flux_profile import profiles_compare, flux_profile\n",
    "from matplotlib.colors import LogNorm\n",
    "import copy\n",
    "import time\n",
    "import pickle"
   ]
  },
  {
   "cell_type": "code",
   "execution_count": 2,
   "metadata": {},
   "outputs": [],
   "source": [
    "#Setting the fitting condition:\n",
    "deep_seed = True  #Set as True to put more seed and steps to fit.\n",
    "pltshow = 1 #Note that setting plt.ion() in line27, the plot won't show anymore if running in terminal.\n",
    "pix_scale = 0.04 #Drizzled frame size\n",
    "fixcenter = False\n",
    "run_MCMC = False\n",
    "zp= 28.\n",
    "\n",
    "psf, QSO_img = pyfits.getdata('sim_ID_0/Drz_PSF.fits'),  pyfits.getdata('sim_ID_0/Drz_QSO_image.fits')\n",
    "\n",
    "fm_size = len(QSO_img)\n",
    "stdd = np.std(QSO_img[int(fm_size/3):int(fm_size*2/3),5:int(fm_size/3)]) #estimate background noise from empty region.\n",
    "\n",
    "#framesize = 61\n",
    "#ct = int((len(QSO_img) - framesize)/2)\n",
    "#QSO_img = QSO_img[ct:-ct,ct:-ct]\n",
    "ID= 0\n",
    "folder = \"sim_ID_{0}\".format(ID)\n",
    "f = open(folder+\"/sim_info.txt\",\"r\")\n",
    "string = f.read()\n",
    "lines = string.split('\\n')   # Split in to \\n\n",
    "exp_info = [lines[i] for i in range(len(lines)) if 'exposure' in lines[i]][0]\n",
    "exp = float(re.findall(r'\\d+\\.\\d+', exp_info)[0])\n",
    "\n",
    "exptime = exp * 8  #Total exposure is the sum of the eight dithered image.\n",
    "QSO_std = (abs(QSO_img/exptime)+stdd**2)**0.5"
   ]
  },
  {
   "cell_type": "code",
   "execution_count": null,
   "metadata": {},
   "outputs": [
    {
     "name": "stdout",
     "output_type": "stream",
     "text": [
      "Computing the PSO ...\n",
      "10\n",
      "20\n",
      "30\n",
      "40\n",
      "50\n",
      "60\n",
      "70\n",
      "80\n",
      "90\n"
     ]
    }
   ],
   "source": [
    "# input the objects components and parameteres\n",
    "#objs, Q_index = detect_obj(QSO_img,pltshow = pltshow)\n",
    "#qso_info = objs[Q_index]\n",
    "#obj = [objs[i] for i in range(len(objs)) if i != Q_index]\n",
    "fixed_source = []\n",
    "kwargs_source_init = []\n",
    "kwargs_source_sigma = []\n",
    "kwargs_lower_source = []\n",
    "kwargs_upper_source = []\n",
    "fixed_source.append({})  \n",
    "kwargs_source_init.append({'R_sersic': 0.3, 'n_sersic': 2., 'e1': 0., 'e2': 0., 'center_x': 0., 'center_y': 0.})\n",
    "kwargs_source_sigma.append({'n_sersic': 0.5, 'R_sersic': 0.5, 'e1': 0.1, 'e2': 0.1, 'center_x': 0.1, 'center_y': 0.1})\n",
    "kwargs_lower_source.append({'e1': -0.5, 'e2': -0.5, 'R_sersic': 0.1, 'n_sersic': 0.3, 'center_x': -0.5, 'center_y': -0.5})\n",
    "kwargs_upper_source.append({'e1': 0.5, 'e2': 0.5, 'R_sersic': 3., 'n_sersic': 7., 'center_x': 0.5, 'center_y': 0.5})\n",
    "\n",
    "source_params = [kwargs_source_init, kwargs_source_sigma, fixed_source, kwargs_lower_source, kwargs_upper_source]\n",
    "\n",
    "tag = None\n",
    "#tag = folder+'example' #If need to save the inferred figures\n",
    "source_result, ps_result, image_ps, image_host, error_map=fit_qso(QSO_img, psf_ave=psf, psf_std = None,\n",
    "                                                                  source_params=source_params, fixcenter=fixcenter,\n",
    "                                                                  pix_sz = pix_scale, no_MCMC = (run_MCMC==False),\n",
    "                                                                  QSO_std =QSO_std, tag=tag, deep_seed= deep_seed, pltshow=pltshow,\n",
    "                                                                  corner_plot=False, flux_ratio_plot=True, dump_result=run_MCMC, pso_diag =True)\n",
    "\n",
    "\n",
    "plot_compare=True\n",
    "fits_plot =True\n",
    "\n",
    "result = transfer_to_result(data=QSO_img, pix_sz = pix_scale,\n",
    "                            source_result=source_result, ps_result=ps_result, image_ps=image_ps, image_host=image_host, error_map=error_map,\n",
    "                            zp=zp, fixcenter=fixcenter,ID='Example', tag=tag, plot_compare = plot_compare)\n"
   ]
  },
  {
   "cell_type": "code",
   "execution_count": null,
   "metadata": {},
   "outputs": [],
   "source": [
    "print(\"The truth:\")\n",
    "with open(\"sim_ID_0/sim_info.txt\") as f: # The with keyword automatically closes the file when you are done\n",
    "    print(f.read())\n",
    "                     \n",
    "print(\"The inferred results:\")                     \n",
    "print(\"host_flux:\",  result['host_amp'])\n",
    "print(\"host Reff:\",  result['R_sersic'])\n",
    "print(\"host n:\",  result['n_sersic'])\n",
    "print(\"host q:\",  result['q'])\n",
    "print(\"AGN flux :\",  result['QSO_amp'])"
   ]
  },
  {
   "cell_type": "code",
   "execution_count": null,
   "metadata": {},
   "outputs": [],
   "source": []
  }
 ],
 "metadata": {
  "kernelspec": {
   "display_name": "Python 2",
   "language": "python",
   "name": "python2"
  },
  "language_info": {
   "codemirror_mode": {
    "name": "ipython",
    "version": 2
   },
   "file_extension": ".py",
   "mimetype": "text/x-python",
   "name": "python",
   "nbconvert_exporter": "python",
   "pygments_lexer": "ipython2",
   "version": "2.7.17"
  }
 },
 "nbformat": 4,
 "nbformat_minor": 4
}
